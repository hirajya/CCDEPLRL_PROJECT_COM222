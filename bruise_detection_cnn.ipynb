{
 "cells": [
  {
   "cell_type": "markdown",
   "id": "7fcf38f5",
   "metadata": {},
   "source": [
    "# Bruise Detection using Simple CNN\n",
    "\n",
    "This notebook implements a basic CNN architecture for binary bruise detection (bruise vs normal skin)."
   ]
  },
  {
   "cell_type": "code",
   "execution_count": 1,
   "id": "a9af8cb3",
   "metadata": {},
   "outputs": [
    {
     "ename": "ModuleNotFoundError",
     "evalue": "No module named 'seaborn'",
     "output_type": "error",
     "traceback": [
      "\u001b[31m--------------------------------------------------------------------------\u001b[39m",
      "\u001b[31mModuleNotFoundError\u001b[39m                      Traceback (most recent call last)",
      "\u001b[36mCell\u001b[39m\u001b[36m \u001b[39m\u001b[32mIn[1]\u001b[39m\u001b[32m, line 9\u001b[39m\n\u001b[32m      7\u001b[39m \u001b[38;5;28;01mfrom\u001b[39;00m\u001b[38;5;250m \u001b[39m\u001b[34;01msklearn\u001b[39;00m\u001b[34;01m.\u001b[39;00m\u001b[34;01mmodel_selection\u001b[39;00m\u001b[38;5;250m \u001b[39m\u001b[38;5;28;01mimport\u001b[39;00m train_test_split\n\u001b[32m      8\u001b[39m \u001b[38;5;28;01mfrom\u001b[39;00m\u001b[38;5;250m \u001b[39m\u001b[34;01msklearn\u001b[39;00m\u001b[34;01m.\u001b[39;00m\u001b[34;01mmetrics\u001b[39;00m\u001b[38;5;250m \u001b[39m\u001b[38;5;28;01mimport\u001b[39;00m confusion_matrix, classification_report, roc_curve, auc\n\u001b[32m----> \u001b[39m\u001b[32m9\u001b[39m \u001b[38;5;28;01mimport\u001b[39;00m\u001b[38;5;250m \u001b[39m\u001b[34;01mseaborn\u001b[39;00m\u001b[38;5;250m \u001b[39m\u001b[38;5;28;01mas\u001b[39;00m\u001b[38;5;250m \u001b[39m\u001b[34;01msns\u001b[39;00m\n",
      "\u001b[31mModuleNotFoundError\u001b[39m: No module named 'seaborn'"
     ]
    }
   ],
   "source": [
    "import tensorflow as tf\n",
    "import numpy as np\n",
    "import matplotlib.pyplot as plt\n",
    "from tensorflow.keras import layers, models\n",
    "import os\n",
    "from PIL import Image\n",
    "from sklearn.model_selection import train_test_split\n",
    "from sklearn.metrics import confusion_matrix, classification_report, roc_curve, auc\n",
    "import seaborn as sns"
   ]
  },
  {
   "cell_type": "markdown",
   "id": "bfb498ab",
   "metadata": {},
   "source": [
    "## Data Loading and Preprocessing"
   ]
  },
  {
   "cell_type": "code",
   "execution_count": null,
   "id": "99dae24b",
   "metadata": {},
   "outputs": [],
   "source": [
    "def load_binary_data(data_dir='dataset/Wound_dataset copy', img_size=(224, 224)):\n",
    "    images = []\n",
    "    labels = []\n",
    "    \n",
    "    # Process bruise images (positive class)\n",
    "    bruise_path = os.path.join(data_dir, 'Bruises')\n",
    "    if os.path.exists(bruise_path):\n",
    "        for img_name in os.listdir(bruise_path):\n",
    "            if img_name.lower().endswith(('.jpg', '.jpeg', '.png')):\n",
    "                img_path = os.path.join(bruise_path, img_name)\n",
    "                try:\n",
    "                    img = Image.open(img_path)\n",
    "                    img = img.convert('RGB')\n",
    "                    img = img.resize(img_size)\n",
    "                    img_array = np.array(img) / 255.0\n",
    "                    \n",
    "                    images.append(img_array)\n",
    "                    labels.append(1)  # 1 for bruise\n",
    "                except Exception as e:\n",
    "                    print(f\"Error loading {img_path}: {e}\")\n",
    "    \n",
    "    # Process normal skin images (negative class)\n",
    "    normal_path = os.path.join(data_dir, 'Normal')\n",
    "    if os.path.exists(normal_path):\n",
    "        for img_name in os.listdir(normal_path):\n",
    "            if img_name.lower().endswith(('.jpg', '.jpeg', '.png')):\n",
    "                img_path = os.path.join(normal_path, img_name)\n",
    "                try:\n",
    "                    img = Image.open(img_path)\n",
    "                    img = img.convert('RGB')\n",
    "                    img = img.resize(img_size)\n",
    "                    img_array = np.array(img) / 255.0\n",
    "                    \n",
    "                    images.append(img_array)\n",
    "                    labels.append(0)  # 0 for normal\n",
    "                except Exception as e:\n",
    "                    print(f\"Error loading {img_path}: {e}\")\n",
    "    \n",
    "    return np.array(images), np.array(labels)"
   ]
  },
  {
   "cell_type": "code",
   "execution_count": null,
   "id": "f59bf681",
   "metadata": {},
   "outputs": [],
   "source": [
    "# Load the dataset\n",
    "X, y = load_binary_data()\n",
    "print(\"Dataset shape:\", X.shape)\n",
    "print(\"Number of bruise images:\", np.sum(y == 1))\n",
    "print(\"Number of normal images:\", np.sum(y == 0))"
   ]
  },
  {
   "cell_type": "markdown",
   "id": "351d4962",
   "metadata": {},
   "source": [
    "## Create and Train Simple CNN Model"
   ]
  },
  {
   "cell_type": "code",
   "execution_count": null,
   "id": "667a0670",
   "metadata": {},
   "outputs": [],
   "source": [
    "def create_simple_model(input_shape):\n",
    "    model = models.Sequential([\n",
    "        # Input layer\n",
    "        layers.Input(shape=input_shape),\n",
    "        \n",
    "        # Simple CNN architecture\n",
    "        layers.Conv2D(32, (3, 3), activation='relu'),\n",
    "        layers.MaxPooling2D((2, 2)),\n",
    "        \n",
    "        # Flatten layer\n",
    "        layers.Flatten(),\n",
    "        \n",
    "        # Dense layer\n",
    "        layers.Dense(64, activation='relu'),\n",
    "        \n",
    "        # Output layer (binary classification)\n",
    "        layers.Dense(1, activation='sigmoid')\n",
    "    ])\n",
    "    \n",
    "    return model"
   ]
  },
  {
   "cell_type": "code",
   "execution_count": null,
   "id": "b558a115",
   "metadata": {},
   "outputs": [],
   "source": [
    "# Split the data\n",
    "X_train, X_test, y_train, y_test = train_test_split(X, y, test_size=0.2, random_state=42)\n",
    "\n",
    "# Create the model\n",
    "input_shape = X_train[0].shape\n",
    "model = create_simple_model(input_shape)\n",
    "\n",
    "# Compile the model\n",
    "model.compile(\n",
    "    optimizer='adam',\n",
    "    loss='binary_crossentropy',\n",
    "    metrics=['accuracy', 'Precision', 'Recall']\n",
    ")\n",
    "\n",
    "# Display model summary\n",
    "model.summary()"
   ]
  },
  {
   "cell_type": "code",
   "execution_count": null,
   "id": "edc559ff",
   "metadata": {},
   "outputs": [],
   "source": [
    "# Train the model\n",
    "history = model.fit(\n",
    "    X_train, y_train,\n",
    "    epochs=10,\n",
    "    batch_size=32,\n",
    "    validation_data=(X_test, y_test),\n",
    "    verbose=1\n",
    ")"
   ]
  },
  {
   "cell_type": "markdown",
   "id": "f7c1307a",
   "metadata": {},
   "source": [
    "## Model Evaluation and Analysis"
   ]
  },
  {
   "cell_type": "code",
   "execution_count": null,
   "id": "d316979d",
   "metadata": {},
   "outputs": [],
   "source": [
    "def plot_training_history(history):\n",
    "    metrics = ['loss', 'accuracy', 'precision', 'recall']\n",
    "    fig, axes = plt.subplots(2, 2, figsize=(15, 10))\n",
    "    \n",
    "    for idx, metric in enumerate(metrics):\n",
    "        row = idx // 2\n",
    "        col = idx % 2\n",
    "        \n",
    "        axes[row, col].plot(history.history[metric], label=f'Training {metric}')\n",
    "        axes[row, col].plot(history.history[f'val_{metric}'], label=f'Validation {metric}')\n",
    "        axes[row, col].set_title(f'Model {metric.capitalize()}')\n",
    "        axes[row, col].set_xlabel('Epoch')\n",
    "        axes[row, col].set_ylabel(metric.capitalize())\n",
    "        axes[row, col].legend()\n",
    "        axes[row, col].grid(True)\n",
    "    \n",
    "    plt.tight_layout()\n",
    "    plt.show()\n",
    "\n",
    "# Plot training history\n",
    "plot_training_history(history)"
   ]
  },
  {
   "cell_type": "code",
   "execution_count": null,
   "id": "364b2e9d",
   "metadata": {},
   "outputs": [],
   "source": [
    "# Make predictions on test set\n",
    "y_pred_prob = model.predict(X_test)\n",
    "y_pred = (y_pred_prob > 0.5).astype(int)\n",
    "\n",
    "# Calculate confusion matrix\n",
    "cm = confusion_matrix(y_test, y_pred)\n",
    "\n",
    "# Plot confusion matrix\n",
    "plt.figure(figsize=(8, 6))\n",
    "sns.heatmap(cm, annot=True, fmt='d', cmap='Blues',\n",
    "            xticklabels=['Normal', 'Bruise'],\n",
    "            yticklabels=['Normal', 'Bruise'])\n",
    "plt.title('Confusion Matrix')\n",
    "plt.xlabel('Predicted')\n",
    "plt.ylabel('True')\n",
    "plt.show()\n",
    "\n",
    "# Print classification report\n",
    "print(\"\\nClassification Report:\")\n",
    "print(classification_report(y_test, y_pred, target_names=['Normal', 'Bruise']))"
   ]
  },
  {
   "cell_type": "code",
   "execution_count": null,
   "id": "d9deda4e",
   "metadata": {},
   "outputs": [],
   "source": [
    "# Plot ROC curve\n",
    "fpr, tpr, _ = roc_curve(y_test, y_pred_prob)\n",
    "roc_auc = auc(fpr, tpr)\n",
    "\n",
    "plt.figure(figsize=(8, 6))\n",
    "plt.plot(fpr, tpr, color='darkorange', lw=2, label=f'ROC curve (AUC = {roc_auc:.2f})')\n",
    "plt.plot([0, 1], [0, 1], color='navy', lw=2, linestyle='--')\n",
    "plt.xlim([0.0, 1.0])\n",
    "plt.ylim([0.0, 1.05])\n",
    "plt.xlabel('False Positive Rate')\n",
    "plt.ylabel('True Positive Rate')\n",
    "plt.title('Receiver Operating Characteristic (ROC) Curve')\n",
    "plt.legend(loc=\"lower right\")\n",
    "plt.grid(True)\n",
    "plt.show()"
   ]
  },
  {
   "cell_type": "markdown",
   "id": "30884f08",
   "metadata": {},
   "source": [
    "## Model Interpretation\n",
    "\n",
    "From the plots and metrics above, we can analyze:\n",
    "\n",
    "1. **Overfitting/Underfitting**:\n",
    "   - Compare training vs validation metrics\n",
    "   - If validation metrics are significantly worse than training, the model might be overfitting\n",
    "   - If both metrics are poor, the model might be underfitting\n",
    "\n",
    "2. **Model Performance**:\n",
    "   - Accuracy: Overall correctness\n",
    "   - Precision: Ability to avoid false positives\n",
    "   - Recall: Ability to find all positive cases\n",
    "   - ROC-AUC: Overall ability to distinguish between classes\n",
    "\n",
    "3. **Confusion Matrix**:\n",
    "   - True Negatives (top-left): Correctly identified normal skin\n",
    "   - False Positives (top-right): Normal skin wrongly classified as bruise\n",
    "   - False Negatives (bottom-left): Bruises missed\n",
    "   - True Positives (bottom-right): Correctly identified bruises"
   ]
  },
  {
   "cell_type": "code",
   "execution_count": null,
   "id": "8e51dc57",
   "metadata": {},
   "outputs": [],
   "source": [
    "# Save the model\n",
    "model.save('models/bruise_detection_model.h5')\n",
    "print(\"Model saved successfully!\")"
   ]
  }
 ],
 "metadata": {
  "kernelspec": {
   "display_name": "Python 3 (ipykernel)",
   "language": "python",
   "name": "python3"
  },
  "language_info": {
   "codemirror_mode": {
    "name": "ipython",
    "version": 3
   },
   "file_extension": ".py",
   "mimetype": "text/x-python",
   "name": "python",
   "nbconvert_exporter": "python",
   "pygments_lexer": "ipython3",
   "version": "3.11.0"
  }
 },
 "nbformat": 4,
 "nbformat_minor": 5
}
